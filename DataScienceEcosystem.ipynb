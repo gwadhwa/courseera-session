{
  "nbformat": 4,
  "nbformat_minor": 0,
  "metadata": {
    "colab": {
      "provenance": []
    },
    "kernelspec": {
      "name": "python3",
      "display_name": "Python 3"
    },
    "language_info": {
      "name": "python"
    }
  },
  "cells": [
    {
      "cell_type": "markdown",
      "source": [
        "#Data Science Tools and Ecosystem\n",
        "\n"
      ],
      "metadata": {
        "id": "PNWV2S9Lb0Tv"
      }
    },
    {
      "cell_type": "markdown",
      "source": [
        "In this notebook, Data Science Tools and Ecosystem are summarized."
      ],
      "metadata": {
        "id": "0hqWImF9cWLZ"
      }
    },
    {
      "cell_type": "markdown",
      "source": [
        "Some of the popular languages that Data Scientists use are:\n",
        "\n",
        "1. Python\n",
        "2. R\n",
        "3. Julia\n",
        "4. Apache ML"
      ],
      "metadata": {
        "id": "ADfgctSbdYDU"
      }
    },
    {
      "cell_type": "markdown",
      "source": [
        "Some of the commonly used libraries used by Data Scientists include:\n",
        "\n",
        "1. Pandas\n",
        "2. Scikit learn\n",
        "3. Numpy\n",
        "4. sklearn\n",
        "5. Pytorch"
      ],
      "metadata": {
        "id": "y3qDyWcKeK3y"
      }
    },
    {
      "cell_type": "markdown",
      "source": [
        "| Data Science Tools |\n",
        "| --- |\n",
        "|Jupyter Notebook|\n",
        "| R Studio |\n",
        "| Anaconda Navigator |\n",
        "| Spyder |\n",
        "| Git Hub |\n",
        "| Git Lab|\n"
      ],
      "metadata": {
        "id": "ZdBXBfbGeeds"
      }
    },
    {
      "cell_type": "markdown",
      "source": [
        "###Below are a few examples of evaluating arithmetic expressions in Python"
      ],
      "metadata": {
        "id": "cmp8pnk6gSn-"
      }
    },
    {
      "cell_type": "code",
      "source": [
        "#This a simple arithmetic expression to mutiply then add integers\n",
        "(3*4)+5"
      ],
      "metadata": {
        "colab": {
          "base_uri": "https://localhost:8080/"
        },
        "id": "mmBY1utvgePU",
        "outputId": "3bd5718d-68e0-4f87-c62e-08b14a806fe2"
      },
      "execution_count": 3,
      "outputs": [
        {
          "output_type": "execute_result",
          "data": {
            "text/plain": [
              "17"
            ]
          },
          "metadata": {},
          "execution_count": 3
        }
      ]
    },
    {
      "cell_type": "markdown",
      "source": [],
      "metadata": {
        "id": "LZUxfsBSgVwM"
      }
    },
    {
      "cell_type": "code",
      "execution_count": 4,
      "metadata": {
        "colab": {
          "base_uri": "https://localhost:8080/"
        },
        "id": "013ErmFxbjPc",
        "outputId": "d7ba766f-f724-4442-f73a-9e18bf3c9c3e"
      },
      "outputs": [
        {
          "output_type": "stream",
          "name": "stdout",
          "text": [
            "3.3333333333333335\n"
          ]
        }
      ],
      "source": [
        "#This will convert 200 minutes to hours by diving by 60\n",
        "hours = 200/60\n",
        "print(hours)"
      ]
    },
    {
      "cell_type": "markdown",
      "source": [
        "**Objectives:**\n",
        "\n",
        "\n",
        "\n",
        "*   List of popular languages for Data Science\n",
        "*   Tools to develop Data science projects\n",
        "*   Helpful libraries in Python for Data science\n",
        "\n"
      ],
      "metadata": {
        "id": "0aeSxO95hTGJ"
      }
    },
    {
      "cell_type": "markdown",
      "source": [
        "##Author\n",
        "Gaurav Wadhwa"
      ],
      "metadata": {
        "id": "-TKUMMaXwqaX"
      }
    }
  ]
}